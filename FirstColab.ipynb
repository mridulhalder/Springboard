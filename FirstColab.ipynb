{
  "nbformat": 4,
  "nbformat_minor": 0,
  "metadata": {
    "colab": {
      "provenance": [],
      "authorship_tag": "ABX9TyOUCNzhbhHSifjC97jw2Hry",
      "include_colab_link": true
    },
    "kernelspec": {
      "name": "python3",
      "display_name": "Python 3"
    },
    "language_info": {
      "name": "python"
    }
  },
  "cells": [
    {
      "cell_type": "markdown",
      "metadata": {
        "id": "view-in-github",
        "colab_type": "text"
      },
      "source": [
        "<a href=\"https://colab.research.google.com/github/mridulhalder/Springboard/blob/main/FirstColab.ipynb\" target=\"_parent\"><img src=\"https://colab.research.google.com/assets/colab-badge.svg\" alt=\"Open In Colab\"/></a>"
      ]
    },
    {
      "cell_type": "code",
      "execution_count": 4,
      "metadata": {
        "id": "YWJTx4PQUr_q",
        "outputId": "d7b64183-da48-4e9b-fa99-b1b31a1150ff",
        "colab": {
          "base_uri": "https://localhost:8080/",
          "height": 572
        }
      },
      "outputs": [
        {
          "output_type": "display_data",
          "data": {
            "text/plain": [
              "<IPython.core.display.HTML object>"
            ],
            "text/html": [
              "\n",
              "     <input type=\"file\" id=\"files-537c7a8b-57a4-420e-a3f0-45c35f7c67a7\" name=\"files[]\" multiple disabled\n",
              "        style=\"border:none\" />\n",
              "     <output id=\"result-537c7a8b-57a4-420e-a3f0-45c35f7c67a7\">\n",
              "      Upload widget is only available when the cell has been executed in the\n",
              "      current browser session. Please rerun this cell to enable.\n",
              "      </output>\n",
              "      <script>// Copyright 2017 Google LLC\n",
              "//\n",
              "// Licensed under the Apache License, Version 2.0 (the \"License\");\n",
              "// you may not use this file except in compliance with the License.\n",
              "// You may obtain a copy of the License at\n",
              "//\n",
              "//      http://www.apache.org/licenses/LICENSE-2.0\n",
              "//\n",
              "// Unless required by applicable law or agreed to in writing, software\n",
              "// distributed under the License is distributed on an \"AS IS\" BASIS,\n",
              "// WITHOUT WARRANTIES OR CONDITIONS OF ANY KIND, either express or implied.\n",
              "// See the License for the specific language governing permissions and\n",
              "// limitations under the License.\n",
              "\n",
              "/**\n",
              " * @fileoverview Helpers for google.colab Python module.\n",
              " */\n",
              "(function(scope) {\n",
              "function span(text, styleAttributes = {}) {\n",
              "  const element = document.createElement('span');\n",
              "  element.textContent = text;\n",
              "  for (const key of Object.keys(styleAttributes)) {\n",
              "    element.style[key] = styleAttributes[key];\n",
              "  }\n",
              "  return element;\n",
              "}\n",
              "\n",
              "// Max number of bytes which will be uploaded at a time.\n",
              "const MAX_PAYLOAD_SIZE = 100 * 1024;\n",
              "\n",
              "function _uploadFiles(inputId, outputId) {\n",
              "  const steps = uploadFilesStep(inputId, outputId);\n",
              "  const outputElement = document.getElementById(outputId);\n",
              "  // Cache steps on the outputElement to make it available for the next call\n",
              "  // to uploadFilesContinue from Python.\n",
              "  outputElement.steps = steps;\n",
              "\n",
              "  return _uploadFilesContinue(outputId);\n",
              "}\n",
              "\n",
              "// This is roughly an async generator (not supported in the browser yet),\n",
              "// where there are multiple asynchronous steps and the Python side is going\n",
              "// to poll for completion of each step.\n",
              "// This uses a Promise to block the python side on completion of each step,\n",
              "// then passes the result of the previous step as the input to the next step.\n",
              "function _uploadFilesContinue(outputId) {\n",
              "  const outputElement = document.getElementById(outputId);\n",
              "  const steps = outputElement.steps;\n",
              "\n",
              "  const next = steps.next(outputElement.lastPromiseValue);\n",
              "  return Promise.resolve(next.value.promise).then((value) => {\n",
              "    // Cache the last promise value to make it available to the next\n",
              "    // step of the generator.\n",
              "    outputElement.lastPromiseValue = value;\n",
              "    return next.value.response;\n",
              "  });\n",
              "}\n",
              "\n",
              "/**\n",
              " * Generator function which is called between each async step of the upload\n",
              " * process.\n",
              " * @param {string} inputId Element ID of the input file picker element.\n",
              " * @param {string} outputId Element ID of the output display.\n",
              " * @return {!Iterable<!Object>} Iterable of next steps.\n",
              " */\n",
              "function* uploadFilesStep(inputId, outputId) {\n",
              "  const inputElement = document.getElementById(inputId);\n",
              "  inputElement.disabled = false;\n",
              "\n",
              "  const outputElement = document.getElementById(outputId);\n",
              "  outputElement.innerHTML = '';\n",
              "\n",
              "  const pickedPromise = new Promise((resolve) => {\n",
              "    inputElement.addEventListener('change', (e) => {\n",
              "      resolve(e.target.files);\n",
              "    });\n",
              "  });\n",
              "\n",
              "  const cancel = document.createElement('button');\n",
              "  inputElement.parentElement.appendChild(cancel);\n",
              "  cancel.textContent = 'Cancel upload';\n",
              "  const cancelPromise = new Promise((resolve) => {\n",
              "    cancel.onclick = () => {\n",
              "      resolve(null);\n",
              "    };\n",
              "  });\n",
              "\n",
              "  // Wait for the user to pick the files.\n",
              "  const files = yield {\n",
              "    promise: Promise.race([pickedPromise, cancelPromise]),\n",
              "    response: {\n",
              "      action: 'starting',\n",
              "    }\n",
              "  };\n",
              "\n",
              "  cancel.remove();\n",
              "\n",
              "  // Disable the input element since further picks are not allowed.\n",
              "  inputElement.disabled = true;\n",
              "\n",
              "  if (!files) {\n",
              "    return {\n",
              "      response: {\n",
              "        action: 'complete',\n",
              "      }\n",
              "    };\n",
              "  }\n",
              "\n",
              "  for (const file of files) {\n",
              "    const li = document.createElement('li');\n",
              "    li.append(span(file.name, {fontWeight: 'bold'}));\n",
              "    li.append(span(\n",
              "        `(${file.type || 'n/a'}) - ${file.size} bytes, ` +\n",
              "        `last modified: ${\n",
              "            file.lastModifiedDate ? file.lastModifiedDate.toLocaleDateString() :\n",
              "                                    'n/a'} - `));\n",
              "    const percent = span('0% done');\n",
              "    li.appendChild(percent);\n",
              "\n",
              "    outputElement.appendChild(li);\n",
              "\n",
              "    const fileDataPromise = new Promise((resolve) => {\n",
              "      const reader = new FileReader();\n",
              "      reader.onload = (e) => {\n",
              "        resolve(e.target.result);\n",
              "      };\n",
              "      reader.readAsArrayBuffer(file);\n",
              "    });\n",
              "    // Wait for the data to be ready.\n",
              "    let fileData = yield {\n",
              "      promise: fileDataPromise,\n",
              "      response: {\n",
              "        action: 'continue',\n",
              "      }\n",
              "    };\n",
              "\n",
              "    // Use a chunked sending to avoid message size limits. See b/62115660.\n",
              "    let position = 0;\n",
              "    do {\n",
              "      const length = Math.min(fileData.byteLength - position, MAX_PAYLOAD_SIZE);\n",
              "      const chunk = new Uint8Array(fileData, position, length);\n",
              "      position += length;\n",
              "\n",
              "      const base64 = btoa(String.fromCharCode.apply(null, chunk));\n",
              "      yield {\n",
              "        response: {\n",
              "          action: 'append',\n",
              "          file: file.name,\n",
              "          data: base64,\n",
              "        },\n",
              "      };\n",
              "\n",
              "      let percentDone = fileData.byteLength === 0 ?\n",
              "          100 :\n",
              "          Math.round((position / fileData.byteLength) * 100);\n",
              "      percent.textContent = `${percentDone}% done`;\n",
              "\n",
              "    } while (position < fileData.byteLength);\n",
              "  }\n",
              "\n",
              "  // All done.\n",
              "  yield {\n",
              "    response: {\n",
              "      action: 'complete',\n",
              "    }\n",
              "  };\n",
              "}\n",
              "\n",
              "scope.google = scope.google || {};\n",
              "scope.google.colab = scope.google.colab || {};\n",
              "scope.google.colab._files = {\n",
              "  _uploadFiles,\n",
              "  _uploadFilesContinue,\n",
              "};\n",
              "})(self);\n",
              "</script> "
            ]
          },
          "metadata": {}
        },
        {
          "output_type": "stream",
          "name": "stdout",
          "text": [
            "Saving yellow_tripdata_2022-01.parquet to yellow_tripdata_2022-01.parquet\n",
            "   VendorID tpep_pickup_datetime tpep_dropoff_datetime  passenger_count  \\\n",
            "0         1  2022-01-01 00:35:40   2022-01-01 00:53:29              2.0   \n",
            "1         1  2022-01-01 00:33:43   2022-01-01 00:42:07              1.0   \n",
            "2         2  2022-01-01 00:53:21   2022-01-01 01:02:19              1.0   \n",
            "3         2  2022-01-01 00:25:21   2022-01-01 00:35:23              1.0   \n",
            "4         2  2022-01-01 00:36:48   2022-01-01 01:14:20              1.0   \n",
            "\n",
            "   trip_distance  RatecodeID store_and_fwd_flag  PULocationID  DOLocationID  \\\n",
            "0           3.80         1.0                  N           142           236   \n",
            "1           2.10         1.0                  N           236            42   \n",
            "2           0.97         1.0                  N           166           166   \n",
            "3           1.09         1.0                  N           114            68   \n",
            "4           4.30         1.0                  N            68           163   \n",
            "\n",
            "   payment_type  fare_amount  extra  mta_tax  tip_amount  tolls_amount  \\\n",
            "0             1         14.5    3.0      0.5        3.65           0.0   \n",
            "1             1          8.0    0.5      0.5        4.00           0.0   \n",
            "2             1          7.5    0.5      0.5        1.76           0.0   \n",
            "3             2          8.0    0.5      0.5        0.00           0.0   \n",
            "4             1         23.5    0.5      0.5        3.00           0.0   \n",
            "\n",
            "   improvement_surcharge  total_amount  congestion_surcharge  airport_fee  \n",
            "0                    0.3         21.95                   2.5          0.0  \n",
            "1                    0.3         13.30                   0.0          0.0  \n",
            "2                    0.3         10.56                   0.0          0.0  \n",
            "3                    0.3         11.80                   2.5          0.0  \n",
            "4                    0.3         30.30                   2.5          0.0  \n"
          ]
        }
      ],
      "source": [
        "\n",
        "import pandas as pd\n",
        "import matplotlib.pyplot as plt\n",
        "import seaborn as sns\n",
        "\n",
        "from google.colab import files\n",
        "uploaded = files.upload()\n",
        "\n",
        "# 1. Load the yellow_tripdata_2022-01.parquet file into Pandas\n",
        "df = pd.read_parquet('/content/yellow_tripdata_2022-01.parquet')\n",
        "\n",
        "# 2. Print the first 5 rows of data\n",
        "print(df.head())"
      ]
    },
    {
      "cell_type": "code",
      "source": [
        "print(\"\\nSchema (columns):\")\n",
        "print(df.columns)\n",
        "print(\"\\nData types:\")\n",
        "print(df.dtypes)"
      ],
      "metadata": {
        "colab": {
          "base_uri": "https://localhost:8080/"
        },
        "id": "NnBREKedrx26",
        "outputId": "a9745664-1fc0-4776-b792-118e7234327d"
      },
      "execution_count": 7,
      "outputs": [
        {
          "output_type": "stream",
          "name": "stdout",
          "text": [
            "\n",
            "Schema (columns):\n",
            "Index(['VendorID', 'tpep_pickup_datetime', 'tpep_dropoff_datetime',\n",
            "       'passenger_count', 'trip_distance', 'RatecodeID', 'store_and_fwd_flag',\n",
            "       'PULocationID', 'DOLocationID', 'payment_type', 'fare_amount', 'extra',\n",
            "       'mta_tax', 'tip_amount', 'tolls_amount', 'improvement_surcharge',\n",
            "       'total_amount', 'congestion_surcharge', 'airport_fee'],\n",
            "      dtype='object')\n",
            "\n",
            "Data types:\n",
            "VendorID                          int64\n",
            "tpep_pickup_datetime     datetime64[us]\n",
            "tpep_dropoff_datetime    datetime64[us]\n",
            "passenger_count                 float64\n",
            "trip_distance                   float64\n",
            "RatecodeID                      float64\n",
            "store_and_fwd_flag               object\n",
            "PULocationID                      int64\n",
            "DOLocationID                      int64\n",
            "payment_type                      int64\n",
            "fare_amount                     float64\n",
            "extra                           float64\n",
            "mta_tax                         float64\n",
            "tip_amount                      float64\n",
            "tolls_amount                    float64\n",
            "improvement_surcharge           float64\n",
            "total_amount                    float64\n",
            "congestion_surcharge            float64\n",
            "airport_fee                     float64\n",
            "dtype: object\n"
          ]
        }
      ]
    },
    {
      "cell_type": "code",
      "source": [
        "# How many rows and unique columns?\n",
        "print(f\"\\nNumber of rows: {len(df)}\")\n",
        "print(f\"Number of unique columns: {df.shape[1]}\")"
      ],
      "metadata": {
        "colab": {
          "base_uri": "https://localhost:8080/"
        },
        "id": "YKFTnKPbsa55",
        "outputId": "cc3abf73-14ec-443b-c2a9-404231182be7"
      },
      "execution_count": 8,
      "outputs": [
        {
          "output_type": "stream",
          "name": "stdout",
          "text": [
            "\n",
            "Number of rows: 2463931\n",
            "Number of unique columns: 19\n"
          ]
        }
      ]
    },
    {
      "cell_type": "code",
      "source": [
        "# Which columns have NULL values and how many?\n",
        "print(\"\\nNULL values per column:\")\n",
        "print(df.isnull().sum()[df.isnull().sum() > 0])"
      ],
      "metadata": {
        "colab": {
          "base_uri": "https://localhost:8080/"
        },
        "id": "jcgwEanestfb",
        "outputId": "85f08451-a023-4b0e-abea-8082c7641fde"
      },
      "execution_count": 9,
      "outputs": [
        {
          "output_type": "stream",
          "name": "stdout",
          "text": [
            "\n",
            "NULL values per column:\n",
            "passenger_count         71503\n",
            "RatecodeID              71503\n",
            "store_and_fwd_flag      71503\n",
            "congestion_surcharge    71503\n",
            "airport_fee             71503\n",
            "dtype: int64\n"
          ]
        }
      ]
    },
    {
      "cell_type": "code",
      "source": [
        "print(\"\\nSummary statistics:\")\n",
        "print(df.describe(include='all'))"
      ],
      "metadata": {
        "colab": {
          "base_uri": "https://localhost:8080/"
        },
        "id": "YZ7HTfritGkU",
        "outputId": "7f48c0af-d956-4703-a9d2-7d8126fc6f65"
      },
      "execution_count": 10,
      "outputs": [
        {
          "output_type": "stream",
          "name": "stdout",
          "text": [
            "\n",
            "Summary statistics:\n",
            "            VendorID        tpep_pickup_datetime       tpep_dropoff_datetime  \\\n",
            "count   2.463931e+06                     2463931                     2463931   \n",
            "unique           NaN                         NaN                         NaN   \n",
            "top              NaN                         NaN                         NaN   \n",
            "freq             NaN                         NaN                         NaN   \n",
            "mean    1.707819e+00  2022-01-17 01:19:51.689724  2022-01-17 01:34:04.421902   \n",
            "min     1.000000e+00         2008-12-31 22:23:09         2008-12-31 23:06:56   \n",
            "25%     1.000000e+00         2022-01-09 15:37:41  2022-01-09 15:50:50.500000   \n",
            "50%     2.000000e+00         2022-01-17 12:11:45         2022-01-17 12:23:49   \n",
            "75%     2.000000e+00  2022-01-24 13:49:37.500000         2022-01-24 14:02:51   \n",
            "max     6.000000e+00         2022-05-18 20:41:57         2022-05-18 20:47:45   \n",
            "std     5.021375e-01                         NaN                         NaN   \n",
            "\n",
            "        passenger_count  trip_distance    RatecodeID store_and_fwd_flag  \\\n",
            "count      2.392428e+06   2.463931e+06  2.392428e+06            2392428   \n",
            "unique              NaN            NaN           NaN                  2   \n",
            "top                 NaN            NaN           NaN                  N   \n",
            "freq                NaN            NaN           NaN            2337496   \n",
            "mean       1.389453e+00   5.372751e+00  1.415507e+00                NaN   \n",
            "min        0.000000e+00   0.000000e+00  1.000000e+00                NaN   \n",
            "25%        1.000000e+00   1.040000e+00  1.000000e+00                NaN   \n",
            "50%        1.000000e+00   1.740000e+00  1.000000e+00                NaN   \n",
            "75%        1.000000e+00   3.130000e+00  1.000000e+00                NaN   \n",
            "max        9.000000e+00   3.061593e+05  9.900000e+01                NaN   \n",
            "std        9.829686e-01   5.478714e+02  5.917573e+00                NaN   \n",
            "\n",
            "        PULocationID  DOLocationID  payment_type   fare_amount         extra  \\\n",
            "count   2.463931e+06  2.463931e+06  2.463931e+06  2.463931e+06  2.463931e+06   \n",
            "unique           NaN           NaN           NaN           NaN           NaN   \n",
            "top              NaN           NaN           NaN           NaN           NaN   \n",
            "freq             NaN           NaN           NaN           NaN           NaN   \n",
            "mean    1.660768e+02  1.635807e+02  1.194449e+00  1.294648e+01  1.006710e+00   \n",
            "min     1.000000e+00  1.000000e+00  0.000000e+00 -4.800000e+02 -4.500000e+00   \n",
            "25%     1.320000e+02  1.130000e+02  1.000000e+00  6.500000e+00  0.000000e+00   \n",
            "50%     1.620000e+02  1.620000e+02  1.000000e+00  9.000000e+00  5.000000e-01   \n",
            "75%     2.340000e+02  2.360000e+02  1.000000e+00  1.400000e+01  2.500000e+00   \n",
            "max     2.650000e+02  2.650000e+02  5.000000e+00  4.010923e+05  3.350000e+01   \n",
            "std     6.546806e+01  7.079016e+01  5.001778e-01  2.558149e+02  1.236226e+00   \n",
            "\n",
            "             mta_tax    tip_amount  tolls_amount  improvement_surcharge  \\\n",
            "count   2.463931e+06  2.463931e+06  2.463931e+06           2.463931e+06   \n",
            "unique           NaN           NaN           NaN                    NaN   \n",
            "top              NaN           NaN           NaN                    NaN   \n",
            "freq             NaN           NaN           NaN                    NaN   \n",
            "mean    4.914539e-01  2.385696e+00  3.749773e-01           2.967234e-01   \n",
            "min    -5.000000e-01 -1.252200e+02 -3.140000e+01          -3.000000e-01   \n",
            "25%     5.000000e-01  7.200000e-01  0.000000e+00           3.000000e-01   \n",
            "50%     5.000000e-01  2.000000e+00  0.000000e+00           3.000000e-01   \n",
            "75%     5.000000e-01  3.000000e+00  0.000000e+00           3.000000e-01   \n",
            "max     1.659000e+01  8.888800e+02  1.933000e+02           3.000000e-01   \n",
            "std     8.291560e-02  2.830698e+00  1.680538e+00           4.374741e-02   \n",
            "\n",
            "        total_amount  congestion_surcharge   airport_fee  \n",
            "count   2.463931e+06          2.392428e+06  2.392428e+06  \n",
            "unique           NaN                   NaN           NaN  \n",
            "top              NaN                   NaN           NaN  \n",
            "freq             NaN                   NaN           NaN  \n",
            "mean    1.916937e+01          2.282322e+00  8.249935e-02  \n",
            "min    -4.803000e+02         -2.500000e+00 -1.250000e+00  \n",
            "25%     1.130000e+01          2.500000e+00  0.000000e+00  \n",
            "50%     1.469000e+01          2.500000e+00  0.000000e+00  \n",
            "75%     2.002000e+01          2.500000e+00  0.000000e+00  \n",
            "max     4.010956e+05          2.500000e+00  1.250000e+00  \n",
            "std     2.559641e+02          7.432040e-01  3.125554e-01  \n"
          ]
        }
      ]
    },
    {
      "cell_type": "code",
      "source": [
        "# Example: Check for negative fare amounts\n",
        "anomalies = df[df['fare_amount'] < 0]\n",
        "print(f\"\\nNumber of trips with negative fare_amount: {len(anomalies)}\")\n",
        "if len(anomalies) > 0:\n",
        "    print(anomalies[['fare_amount']].head())"
      ],
      "metadata": {
        "colab": {
          "base_uri": "https://localhost:8080/"
        },
        "id": "ci7fZKQItd4-",
        "outputId": "93481f23-54cc-48f2-c4e2-57bcb62f32ec"
      },
      "execution_count": 11,
      "outputs": [
        {
          "output_type": "stream",
          "name": "stdout",
          "text": [
            "\n",
            "Number of trips with negative fare_amount: 12733\n",
            "     fare_amount\n",
            "154        -21.0\n",
            "521        -17.0\n",
            "523        -75.0\n",
            "580         -4.0\n",
            "714        -12.0\n"
          ]
        }
      ]
    },
    {
      "cell_type": "code",
      "source": [
        "# Drop all rows with NULL values and store the result\n",
        "df_clean = df.dropna()\n",
        "print(f\"\\nShape after dropping NULLs: {df_clean.shape}\")"
      ],
      "metadata": {
        "colab": {
          "base_uri": "https://localhost:8080/"
        },
        "id": "drKlCtCtt0-A",
        "outputId": "41bb5e72-b742-4b01-dac7-20c44b7abc1a"
      },
      "execution_count": 12,
      "outputs": [
        {
          "output_type": "stream",
          "name": "stdout",
          "text": [
            "\n",
            "Shape after dropping NULLs: (2392428, 19)\n"
          ]
        }
      ]
    },
    {
      "cell_type": "code",
      "source": [
        "import pandas as pd\n",
        "import matplotlib.pyplot as plt\n",
        "import seaborn as sns\n",
        "\n",
        "df = pd.read_parquet('/content/yellow_tripdata_2022-01.parquet')\n",
        "\n",
        "# 1. Create a new feature that calculates the trip duration in minutes\n",
        "df['trip_duration_min'] = (df['tpep_dropoff_datetime'] - df['tpep_pickup_datetime']).dt.total_seconds() / 60"
      ],
      "metadata": {
        "id": "luAITMo-jRps"
      },
      "execution_count": 5,
      "outputs": []
    },
    {
      "cell_type": "code",
      "source": [
        "# Create features for pick-up day of week and pick-up hour\n",
        "df['pickup_dayofweek'] = df['tpep_pickup_datetime'].dt.day_name()\n",
        "df['pickup_hour'] = df['tpep_pickup_datetime'].dt.hour"
      ],
      "metadata": {
        "id": "In9zx68Vllyo"
      },
      "execution_count": 7,
      "outputs": []
    },
    {
      "cell_type": "code",
      "source": [
        "# Line plot: number of trips as a function of hour of day\n",
        "plt.figure(figsize=(10, 5))\n",
        "sns.lineplot(\n",
        "    x=df['pickup_hour'].value_counts().sort_index().index,\n",
        "    y=df['pickup_hour'].value_counts().sort_index().values\n",
        ")\n",
        "plt.title('Number of Trips by Hour of Day')\n",
        "plt.xlabel('Hour of Day')\n",
        "plt.ylabel('Number of Trips')\n",
        "plt.show()"
      ],
      "metadata": {
        "colab": {
          "base_uri": "https://localhost:8080/",
          "height": 487
        },
        "id": "vmTuU8oEl0ZE",
        "outputId": "ac0ced07-9c31-424e-be9f-e31b677fc356"
      },
      "execution_count": 8,
      "outputs": [
        {
          "output_type": "display_data",
          "data": {
            "text/plain": [
              "<Figure size 1000x500 with 1 Axes>"
            ],
            "image/png": "[encoded data removed]"
          },
          "metadata": {}
        }
      ]
    },
    {
      "cell_type": "code",
      "source": [
        "# Line plot: number of trips as a function of day of week\n",
        "order = ['Monday', 'Tuesday', 'Wednesday', 'Thursday', 'Friday', 'Saturday', 'Sunday']\n",
        "plt.figure(figsize=(10, 5))\n",
        "sns.lineplot(\n",
        "    x=df['pickup_dayofweek'].value_counts().reindex(order).index,\n",
        "    y=df['pickup_dayofweek'].value_counts().reindex(order).values\n",
        ")\n",
        "plt.title('Number of Trips by Day of Week')\n",
        "plt.xlabel('Day of Week')\n",
        "plt.ylabel('Number of Trips')\n",
        "plt.show()"
      ],
      "metadata": {
        "colab": {
          "base_uri": "https://localhost:8080/",
          "height": 487
        },
        "id": "TqS17yqHl-iT",
        "outputId": "19cddc6d-68e1-4802-aabd-08924ae20dcd"
      },
      "execution_count": 9,
      "outputs": [
        {
          "output_type": "display_data",
          "data": {
            "text/plain": [
              "<Figure size 1000x500 with 1 Axes>"
            ],
            "image/png": "[encoded data removed]"
          },
          "metadata": {}
        }
      ]
    },
    {
      "cell_type": "markdown",
      "source": [
        "# New Section"
      ],
      "metadata": {
        "id": "ARvA4uDlkC5J"
      }
    }
  ]
}